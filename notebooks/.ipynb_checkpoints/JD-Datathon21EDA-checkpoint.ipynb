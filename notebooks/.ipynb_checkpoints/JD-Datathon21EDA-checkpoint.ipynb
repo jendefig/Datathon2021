{
 "cells": [
  {
   "cell_type": "markdown",
   "metadata": {},
   "source": [
    "## Import Packages"
   ]
  },
  {
   "cell_type": "code",
   "execution_count": 3,
   "metadata": {},
   "outputs": [],
   "source": [
    "import numpy as np\n",
    "import pandas as pd\n",
    "import seaborn as sns\n",
    "import matplotlib.pyplot as plt\n",
    "\n",
    "%matplotlib inline\n",
    "\n",
    "import warnings\n",
    "warnings.filterwarnings(\"ignore\") \n",
    "\n",
    "from IPython.display import display, Markdown"
   ]
  },
  {
   "cell_type": "code",
   "execution_count": 4,
   "metadata": {},
   "outputs": [
    {
     "data": {
      "text/plain": [
       "'C:\\\\Users\\\\jenif\\\\Documents\\\\WiDSDatathon2021\\\\Datathon2021\\\\notebooks'"
      ]
     },
     "execution_count": 4,
     "metadata": {},
     "output_type": "execute_result"
    }
   ],
   "source": [
    "pwd"
   ]
  },
  {
   "cell_type": "code",
   "execution_count": 6,
   "metadata": {},
   "outputs": [
    {
     "ename": "SyntaxError",
     "evalue": "invalid syntax (<ipython-input-6-14b75daed7e9>, line 2)",
     "output_type": "error",
     "traceback": [
      "\u001b[1;36m  File \u001b[1;32m\"<ipython-input-6-14b75daed7e9>\"\u001b[1;36m, line \u001b[1;32m2\u001b[0m\n\u001b[1;33m    cd ..\u001b[0m\n\u001b[1;37m        ^\u001b[0m\n\u001b[1;31mSyntaxError\u001b[0m\u001b[1;31m:\u001b[0m invalid syntax\n"
     ]
    }
   ],
   "source": [
    "#change directory\n",
    "cd ..\n",
    "## To read a locally saved CSV file:\n",
    "\n",
    "raw_csv_data = pd.read_csv('raw_data/TrainingWiDS2021.csv')"
   ]
  },
  {
   "cell_type": "code",
   "execution_count": null,
   "metadata": {
    "scrolled": true
   },
   "outputs": [],
   "source": [
    "raw_csv_data\n"
   ]
  },
  {
   "cell_type": "code",
   "execution_count": null,
   "metadata": {},
   "outputs": [],
   "source": [
    "df=raw_csv_data.copy()"
   ]
  },
  {
   "cell_type": "code",
   "execution_count": null,
   "metadata": {},
   "outputs": [],
   "source": [
    "df"
   ]
  },
  {
   "cell_type": "code",
   "execution_count": null,
   "metadata": {},
   "outputs": [],
   "source": [
    "pd.options.display.max_columns = None\n",
    "pd.options.display.max_rows = 500"
   ]
  },
  {
   "cell_type": "code",
   "execution_count": null,
   "metadata": {},
   "outputs": [],
   "source": [
    "df.head()"
   ]
  },
  {
   "cell_type": "code",
   "execution_count": null,
   "metadata": {},
   "outputs": [],
   "source": [
    "df.shape"
   ]
  },
  {
   "cell_type": "code",
   "execution_count": null,
   "metadata": {},
   "outputs": [],
   "source": [
    "df.columns"
   ]
  },
  {
   "cell_type": "code",
   "execution_count": null,
   "metadata": {},
   "outputs": [],
   "source": [
    "df_missing = df.isna()\n",
    "df_missing.head()\n"
   ]
  },
  {
   "cell_type": "code",
   "execution_count": null,
   "metadata": {},
   "outputs": [],
   "source": [
    "df_missing2 = df_missing.sum() / len(df_missing)\n",
    "df_missing2"
   ]
  },
  {
   "cell_type": "code",
   "execution_count": null,
   "metadata": {
    "scrolled": false
   },
   "outputs": [],
   "source": [
    "cols = df_missing2.where(df_missing2 > 0.4).dropna().index"
   ]
  },
  {
   "cell_type": "code",
   "execution_count": null,
   "metadata": {},
   "outputs": [],
   "source": [
    "cols"
   ]
  },
  {
   "cell_type": "code",
   "execution_count": null,
   "metadata": {},
   "outputs": [],
   "source": [
    "## Print the categorical columns\n",
    "print([c for c in df.columns if (1<df[c].nunique()) & (df[c].dtype != np.number)& (df[c].dtype != int) ])"
   ]
  },
  {
   "cell_type": "code",
   "execution_count": null,
   "metadata": {},
   "outputs": [],
   "source": [
    "#dropping list from two up above plus Unnamed: 0\n",
    "df = df.drop(['Unnamed: 0', 'albumin_apache', 'bilirubin_apache', 'fio2_apache', 'paco2_apache',\n",
    "       'paco2_for_ph_apache', 'pao2_apache', 'ph_apache', 'urineoutput_apache',\n",
    "       'd1_diasbp_invasive_max', 'd1_diasbp_invasive_min',\n",
    "       'd1_mbp_invasive_max', 'd1_mbp_invasive_min', 'd1_sysbp_invasive_max',\n",
    "       'd1_sysbp_invasive_min', 'h1_diasbp_invasive_max',\n",
    "       'h1_diasbp_invasive_min', 'h1_mbp_invasive_max', 'h1_mbp_invasive_min',\n",
    "       'h1_sysbp_invasive_max', 'h1_sysbp_invasive_min', 'd1_albumin_max',\n",
    "       'd1_albumin_min', 'd1_bilirubin_max', 'd1_bilirubin_min', 'd1_inr_max',\n",
    "       'd1_inr_min', 'd1_lactate_max', 'd1_lactate_min', 'h1_albumin_max',\n",
    "       'h1_albumin_min', 'h1_bilirubin_max', 'h1_bilirubin_min', 'h1_bun_max',\n",
    "       'h1_bun_min', 'h1_calcium_max', 'h1_calcium_min', 'h1_creatinine_max',\n",
    "       'h1_creatinine_min', 'h1_glucose_max', 'h1_glucose_min', 'h1_hco3_max',\n",
    "       'h1_hco3_min', 'h1_hemaglobin_max', 'h1_hemaglobin_min',\n",
    "       'h1_hematocrit_max', 'h1_hematocrit_min', 'h1_inr_max', 'h1_inr_min',\n",
    "       'h1_lactate_max', 'h1_lactate_min', 'h1_platelets_max',\n",
    "       'h1_platelets_min', 'h1_potassium_max', 'h1_potassium_min',\n",
    "       'h1_sodium_max', 'h1_sodium_min', 'h1_wbc_max', 'h1_wbc_min',\n",
    "       'd1_arterial_pco2_max', 'd1_arterial_pco2_min', 'd1_arterial_ph_max',\n",
    "       'd1_arterial_ph_min', 'd1_arterial_po2_max', 'd1_arterial_po2_min',\n",
    "       'd1_pao2fio2ratio_max', 'd1_pao2fio2ratio_min', 'h1_arterial_pco2_max',\n",
    "       'h1_arterial_pco2_min', 'h1_arterial_ph_max', 'h1_arterial_ph_min',\n",
    "       'h1_arterial_po2_max', 'h1_arterial_po2_min', 'h1_pao2fio2ratio_max',\n",
    "       'h1_pao2fio2ratio_min'], axis=1)"
   ]
  },
  {
   "cell_type": "code",
   "execution_count": null,
   "metadata": {},
   "outputs": [],
   "source": [
    "test = pd.read_csv('UnlabeledWiDS2021.csv')"
   ]
  },
  {
   "cell_type": "code",
   "execution_count": null,
   "metadata": {},
   "outputs": [],
   "source": [
    "test.head()"
   ]
  },
  {
   "cell_type": "code",
   "execution_count": null,
   "metadata": {},
   "outputs": [],
   "source": [
    "#dropping same group from test set\n",
    "test = test.drop(['Unnamed: 0', 'albumin_apache', 'bilirubin_apache', 'fio2_apache', 'paco2_apache',\n",
    "       'paco2_for_ph_apache', 'pao2_apache', 'ph_apache', 'urineoutput_apache',\n",
    "       'd1_diasbp_invasive_max', 'd1_diasbp_invasive_min',\n",
    "       'd1_mbp_invasive_max', 'd1_mbp_invasive_min', 'd1_sysbp_invasive_max',\n",
    "       'd1_sysbp_invasive_min', 'h1_diasbp_invasive_max',\n",
    "       'h1_diasbp_invasive_min', 'h1_mbp_invasive_max', 'h1_mbp_invasive_min',\n",
    "       'h1_sysbp_invasive_max', 'h1_sysbp_invasive_min', 'd1_albumin_max',\n",
    "       'd1_albumin_min', 'd1_bilirubin_max', 'd1_bilirubin_min', 'd1_inr_max',\n",
    "       'd1_inr_min', 'd1_lactate_max', 'd1_lactate_min', 'h1_albumin_max',\n",
    "       'h1_albumin_min', 'h1_bilirubin_max', 'h1_bilirubin_min', 'h1_bun_max',\n",
    "       'h1_bun_min', 'h1_calcium_max', 'h1_calcium_min', 'h1_creatinine_max',\n",
    "       'h1_creatinine_min', 'h1_glucose_max', 'h1_glucose_min', 'h1_hco3_max',\n",
    "       'h1_hco3_min', 'h1_hemaglobin_max', 'h1_hemaglobin_min',\n",
    "       'h1_hematocrit_max', 'h1_hematocrit_min', 'h1_inr_max', 'h1_inr_min',\n",
    "       'h1_lactate_max', 'h1_lactate_min', 'h1_platelets_max',\n",
    "       'h1_platelets_min', 'h1_potassium_max', 'h1_potassium_min',\n",
    "       'h1_sodium_max', 'h1_sodium_min', 'h1_wbc_max', 'h1_wbc_min',\n",
    "       'd1_arterial_pco2_max', 'd1_arterial_pco2_min', 'd1_arterial_ph_max',\n",
    "       'd1_arterial_ph_min', 'd1_arterial_po2_max', 'd1_arterial_po2_min',\n",
    "       'd1_pao2fio2ratio_max', 'd1_pao2fio2ratio_min', 'h1_arterial_pco2_max',\n",
    "       'h1_arterial_pco2_min', 'h1_arterial_ph_max', 'h1_arterial_ph_min',\n",
    "       'h1_arterial_po2_max', 'h1_arterial_po2_min', 'h1_pao2fio2ratio_max',\n",
    "       'h1_pao2fio2ratio_min'], axis=1)"
   ]
  },
  {
   "cell_type": "code",
   "execution_count": null,
   "metadata": {},
   "outputs": [],
   "source": [
    "test.head()\n"
   ]
  },
  {
   "cell_type": "code",
   "execution_count": null,
   "metadata": {},
   "outputs": [],
   "source": [
    "categorical_cols =  ['hospital_id',\n",
    " 'ethnicity', 'gender', 'hospital_admit_source', 'icu_admit_source', 'icu_stay_type', 'icu_type']"
   ]
  },
  {
   "cell_type": "code",
   "execution_count": null,
   "metadata": {},
   "outputs": [],
   "source": [
    "## Handle na values\n",
    "df[categorical_cols] = df[categorical_cols].fillna(\"\")\n",
    "test[categorical_cols] = test[categorical_cols].fillna(\"\")\n",
    "\n",
    "df[categorical_cols].isna().sum()"
   ]
  },
  {
   "cell_type": "code",
   "execution_count": null,
   "metadata": {},
   "outputs": [],
   "source": [
    "import numpy as np \n",
    "import pandas as pd # data processing, CSV file I/O (e.g. pd.read_csv)\n",
    "from catboost import Pool, cv, CatBoostClassifier, CatBoostRegressor\n",
    "\n",
    "from sklearn.metrics import mean_squared_error, classification_report\n",
    "from sklearn.preprocessing import LabelEncoder\n",
    "\n",
    "from sklearn.model_selection import train_test_split\n",
    "\n",
    "       \n",
    "import gc\n",
    "import matplotlib.pyplot as plt\n",
    "import seaborn as sns\n",
    "\n",
    "from sklearn import metrics\n",
    "pd.set_option('max_rows', 300)\n",
    "import re\n",
    "\n",
    "\n",
    "pd.set_option('display.max_columns', 300)\n",
    "np.random.seed(566)\n",
    "pd.set_option('display.max_rows', 200)\n",
    "pd.set_option('display.width', 1000)\n",
    "pd.set_option('display.float_format', '{:20,.2f}'.format)\n",
    "pd.set_option('display.max_colwidth', -1)\n"
   ]
  },
  {
   "cell_type": "code",
   "execution_count": null,
   "metadata": {},
   "outputs": [],
   "source": [
    "## Train Test split and remove Target values\n",
    "TARGET_COL = \"diabetes_mellitus\"\n",
    "X_train = df.drop([TARGET_COL],axis=1)\n",
    "y_train = df[TARGET_COL]"
   ]
  },
  {
   "cell_type": "code",
   "execution_count": null,
   "metadata": {},
   "outputs": [],
   "source": [
    "## catBoost Pool object\n",
    "train_pool = Pool(data=X_train,label = y_train,cat_features=categorical_cols)"
   ]
  },
  {
   "cell_type": "code",
   "execution_count": null,
   "metadata": {},
   "outputs": [],
   "source": [
    "model_basic = CatBoostClassifier(verbose=False,iterations=50)#,learning_rate=0.1, task_type=\"GPU\",)\n",
    "model_basic.fit(train_pool, plot=True,silent=True)\n",
    "print(model_basic.get_best_score())"
   ]
  },
  {
   "cell_type": "code",
   "execution_count": null,
   "metadata": {
    "scrolled": false
   },
   "outputs": [],
   "source": [
    "### hyperparameter tuning example grid for catboost : \n",
    "grid = {'learning_rate': [0.04, 0.1],\n",
    "        'depth': [7, 11],\n",
    "         'l2_leaf_reg': [1, 3,9],\n",
    "        \"iterations\": [500],\n",
    "       \"custom_metric\":['Logloss', 'AUC']}\n",
    "\n",
    "model = CatBoostClassifier()\n",
    "\n",
    "## can also do randomized search - more efficient typically, especially for large search space - `randomized_search`\n",
    "grid_search_result = model.grid_search(grid, \n",
    "                                      train_pool,\n",
    "                                      plot=True,\n",
    "                                      refit = True, #  refit best model on all data\n",
    "                                      partition_random_seed=42)\n",
    "\n",
    "print(model.get_best_score())"
   ]
  },
  {
   "cell_type": "code",
   "execution_count": null,
   "metadata": {},
   "outputs": [],
   "source": [
    "test[TARGET_COL] = model_basic.predict(test,prediction_type='Probability')[:,1]"
   ]
  },
  {
   "cell_type": "code",
   "execution_count": null,
   "metadata": {},
   "outputs": [],
   "source": [
    "test[[\"encounter_id\",\"diabetes_mellitus\"]].to_csv(\"submission.csv\",index=False)"
   ]
  },
  {
   "cell_type": "code",
   "execution_count": null,
   "metadata": {},
   "outputs": [],
   "source": [
    "train['hospital_admit_source'].valuecounts()\n"
   ]
  },
  {
   "cell_type": "code",
   "execution_count": null,
   "metadata": {},
   "outputs": [],
   "source": []
  }
 ],
 "metadata": {
  "kernelspec": {
   "display_name": "Python 3",
   "language": "python",
   "name": "python3"
  },
  "language_info": {
   "codemirror_mode": {
    "name": "ipython",
    "version": 3
   },
   "file_extension": ".py",
   "mimetype": "text/x-python",
   "name": "python",
   "nbconvert_exporter": "python",
   "pygments_lexer": "ipython3",
   "version": "3.7.6"
  }
 },
 "nbformat": 4,
 "nbformat_minor": 4
}
